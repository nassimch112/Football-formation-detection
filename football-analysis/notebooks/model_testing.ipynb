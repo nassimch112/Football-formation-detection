{
 "cells": [
  {
   "cell_type": "markdown",
   "metadata": {},
   "source": [
    "# Model Testing\n",
    "\n",
    "This notebook is used to test the performance of the YOLOv8 model for player detection in football highlight videos. It will visualize the detection results and evaluate the model's accuracy."
   ]
  },
  {
   "cell_type": "code",
   "execution_count": null,
   "metadata": {
    "collapsed": false
   },
   "outputs": [],
   "source": [
    "import cv2\n",
    "import numpy as np\n",
    "import matplotlib.pyplot as plt\n",
    "from src.data.video_loader import load_video\n",
    "from src.detection.player_detector import PlayerDetector\n",
    "from src.detection.team_classifier import TeamClassifier\n",
    "from src.tracking.position_tracker import PositionTracker\n",
    "from src.visualization.heatmap_generator import generate_heatmap\n",
    "from src.visualization.formation_overlay import overlay_formation\n",
    "\n",
    "# Load video\n",
    "video_path = 'path/to/your/video.mp4'\n",
    "frames = load_video(video_path)\n",
    "\n",
    "# Initialize detectors and trackers\n",
    "player_detector = PlayerDetector()\n",
    "team_classifier = TeamClassifier()\n",
    "position_tracker = PositionTracker()\n",
    "\n",
    "# Process frames\n",
    "player_positions = []\n",
    "for frame_number, frame in enumerate(frames):\n",
    "    # Detect players\n",
    "    boxes = player_detector.detect(frame)\n",
    "    \n",
    "    # Classify teams\n",
    "    team_labels = team_classifier.classify(boxes, frame)\n",
    "    \n",
    "    # Track positions\n",
    "    positions = position_tracker.track(boxes, team_labels, frame_number)\n",
    "    player_positions.extend(positions)\n",
    "\n",
    "# Visualize results\n",
    "for frame_number, frame in enumerate(frames):\n",
    "    # Overlay formation\n",
    "    overlayed_frame = overlay_formation(frame, player_positions[frame_number])\n",
    "    plt.imshow(cv2.cvtColor(overlayed_frame, cv2.COLOR_BGR2RGB))\n",
    "    plt.axis('off')\n",
    "    plt.show()\n",
    "\n",
    "# Generate heatmap\n",
    "heatmap = generate_heatmap(player_positions)\n",
    "plt.imshow(heatmap, cmap='hot', interpolation='nearest')\n",
    "plt.title('Player Heatmap')\n",
    "plt.colorbar()\n",
    "plt.show()"
   ]
  }
 ],
 "metadata": {
  "kernelspec": {
   "display_name": "Python 3",
   "language": "python",
   "name": "python3"
  },
  "language_info": {
   "codemirror_mode": {
    "name": "ipython",
    "version": 3
   },
   "file_extension": ".py",
   "mimetype": "text/x-python",
   "name": "python",
   "nbconvert_exporter": "python",
   "pygments_lexer": "ipython3",
   "version": "3.8.5"
  }
 },
 "nbformat": 4,
 "nbformat_minor": 4
}
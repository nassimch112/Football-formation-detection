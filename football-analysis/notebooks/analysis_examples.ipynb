{
 "cells": [
  {
   "cell_type": "markdown",
   "metadata": {},
   "source": [
    "# Football Analysis Examples\n",
    "\n",
    "This notebook provides examples of analysis techniques and visualizations using the processed data from football highlight videos. The focus is on generating heatmaps and formation overlays based on player positions."
   ]
  },
  {
   "cell_type": "code",
   "execution_count": 1,
   "metadata": {},
   "outputs": [],
   "source": [
    "import cv2\n",
    "import numpy as np\n",
    "import seaborn as sns\n",
    "import matplotlib.pyplot as plt\n",
    "from src.data.video_loader import load_video\n",
    "from src.detection.player_detector import detect_players\n",
    "from src.tracking.position_tracker import track_positions\n",
    "from src.visualization.heatmap_generator import generate_heatmap\n",
    "from src.visualization.formation_overlay import overlay_formation\n",
    "from src.utils.config import VIDEO_PATH\n",
    "\n",
    "# Load video\n",
    "video_frames = load_video(VIDEO_PATH)\n",
    "\n",
    "# Detect players in each frame\n",
    "player_data = detect_players(video_frames)\n",
    "\n",
    "# Track player positions\n",
    "tracked_positions = track_positions(player_data)\n",
    "\n",
    "# Generate heatmap for Team A\n",
    "team_a_positions = [pos for pos in tracked_positions if pos['team'] == 'Team A']\n",
    "heatmap_a = generate_heatmap(team_a_positions)\n",
    "\n",
    "# Display heatmap\n",
    "plt.figure(figsize=(10, 8))\n",
    "sns.heatmap(heatmap_a, cmap='YlGnBu')\n",
    "plt.title('Heatmap for Team A')\n",
    "plt.show()\n",
    "\n",
    "# Overlay formation on a selected frame\n",
    "selected_frame = video_frames[10]  # Example: frame 10\n",
    "overlayed_frame = overlay_formation(selected_frame, tracked_positions)\n",
    "\n",
    "# Display the overlayed frame\n",
    "cv2.imshow('Formation Overlay', overlayed_frame)\n",
    "cv2.waitKey(0)\n",
    "cv2.destroyAllWindows()"
   ]
  }
 ],
 "metadata": {
  "kernelspec": {
   "display_name": "Python 3",
   "language": "python",
   "name": "python3"
  },
  "language_info": {
   "codemirror_mode": {
    "name": "ipython",
    "version": 3
   },
   "file_extension": ".py",
   "mimetype": "text/x-python",
   "name": "python",
   "nbconvert_exporter": "python",
   "pygments_lexer": "ipython3",
   "version": "3.8.5"
  }
 },
 "nbformat": 4,
 "nbformat_minor": 4
}